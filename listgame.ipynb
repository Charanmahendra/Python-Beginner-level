{
 "cells": [
  {
   "cell_type": "code",
   "execution_count": null,
   "metadata": {},
   "outputs": [],
   "source": [
    "\n",
    "\n",
    "\n"
   ]
  },
  {
   "cell_type": "code",
   "execution_count": 5,
   "metadata": {},
   "outputs": [],
   "source": [
    "from IPython.display import clear_output\n"
   ]
  },
  {
   "cell_type": "code",
   "execution_count": 6,
   "metadata": {},
   "outputs": [
    {
     "name": "stdout",
     "output_type": "stream",
     "text": [
      "Here is the current list\n",
      "[0, 12, 2]\n",
      "for continue Y else NN\n"
     ]
    }
   ],
   "source": [
    "def displaygamelist(gamelist):\n",
    "    print(\"Here is the current list\")\n",
    "    print(gamelist)\n",
    "    \n",
    "def positionchoice():\n",
    "    \n",
    "    choice=\"wrong\"\n",
    "    \n",
    "    while choice not in ['0','1','2']:\n",
    "        \n",
    "        choice=input(\"enter a position in given range\")\n",
    "        \n",
    "        if choice not in ['0','1','2']:\n",
    "            \n",
    "            clear_output()\n",
    "            \n",
    "            print(\"sorry wrong number enter a number in given range\")\n",
    "    \n",
    "    return int(choice) \n",
    "\n",
    "def replacement(gamelist,position):\n",
    "    \n",
    "    newvalue=int(input(\"enter the value to be changed\"))\n",
    "    \n",
    "    gamelist[position]=newvalue\n",
    "    \n",
    "    return gamelist\n",
    "\n",
    "def gamecontinue():\n",
    "    \n",
    "    choice=\"wrong\"\n",
    "    \n",
    "    while choice not in ['Y','N']:\n",
    "        \n",
    "        choice=input(\"for continue Y else N\")\n",
    "        \n",
    "        if choice not in['Y','N']:\n",
    "             \n",
    "            clear_output()\n",
    "            \n",
    "            print(\"enter either Y or N\")\n",
    "            \n",
    "    if choice=='Y':\n",
    "        return True\n",
    "    else:\n",
    "        return False\n",
    "gamelist=[0,1,2]    \n",
    "\n",
    "gameon=True\n",
    "\n",
    "while gameon:\n",
    "    \n",
    "    clear_output()\n",
    "    displaygamelist(gamelist)\n",
    "    \n",
    "    position=positionchoice() \n",
    "    \n",
    "    gamelist=replacement(gamelist,position)\n",
    "    \n",
    "    clear_output()\n",
    "    \n",
    "    displaygamelist(gamelist)\n",
    "    \n",
    "    gameon=gamecontinue()"
   ]
  },
  {
   "cell_type": "code",
   "execution_count": null,
   "metadata": {},
   "outputs": [],
   "source": []
  }
 ],
 "metadata": {
  "kernelspec": {
   "display_name": "Python 3",
   "language": "python",
   "name": "python3"
  },
  "language_info": {
   "codemirror_mode": {
    "name": "ipython",
    "version": 3
   },
   "file_extension": ".py",
   "mimetype": "text/x-python",
   "name": "python",
   "nbconvert_exporter": "python",
   "pygments_lexer": "ipython3",
   "version": "3.6.9"
  }
 },
 "nbformat": 4,
 "nbformat_minor": 2
}
